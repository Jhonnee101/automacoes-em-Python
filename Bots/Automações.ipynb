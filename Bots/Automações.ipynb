{
 "cells": [
  {
   "cell_type": "markdown",
   "metadata": {},
   "source": [
    "# Exemplo de leitura de dados #"
   ]
  },
  {
   "cell_type": "code",
   "execution_count": null,
   "metadata": {},
   "outputs": [],
   "source": [
    "with open(\"document2.txt\") as arquivo:\n",
    "    conteudo = arquivo.read()\n",
    "    print(conteudo)"
   ]
  },
  {
   "cell_type": "markdown",
   "metadata": {},
   "source": [
    "# Exemplo de escrita de dados #"
   ]
  },
  {
   "cell_type": "code",
   "execution_count": null,
   "metadata": {},
   "outputs": [],
   "source": [
    "# Nome do arquivo TXT\n",
    "nome_arquivo = 'document2.txt'\n",
    "\n",
    "# Leitura do conteúdo atual do arquivo\n",
    "with open(nome_arquivo, 'r') as arquivo:\n",
    "    conteudo_atual = arquivo.read()\n",
    "\n",
    "# Adiciona conteúdo novo\n",
    "conteudo_novo = conteudo_atual + '\\nTenham uma boa noite!'\n",
    "\n",
    "# Escreve o conteúdo atualizado de volta no arquivo\n",
    "with open(nome_arquivo, 'w') as arquivo:\n",
    "    arquivo.write(conteudo_novo)\n",
    "\n",
    "print(\"Conteúdo adicionado com sucesso.\")\n",
    "print(conteudo_novo)\n"
   ]
  },
  {
   "cell_type": "markdown",
   "metadata": {},
   "source": [
    "# Exemplo de Automação de Backup #"
   ]
  },
  {
   "cell_type": "code",
   "execution_count": null,
   "metadata": {},
   "outputs": [],
   "source": [
    "import os\n",
    "import shutil\n",
    "from datetime import datetime\n",
    "\n",
    "def fazer_backup(origem, destino):\n",
    "    data_atual = datetime.now().strftime(\"%d-%m-%Y_%H%M%S\")\n",
    "    destino_backup = os.path.join(destino, f\"backup_{data_atual}\")\n",
    "\n",
    "    try:\n",
    "        os.makedirs(destino_backup)\n",
    "\n",
    "        for root, dirs, files in os.walk(origem):\n",
    "            rel_path = os.path.relpath(root, origem)\n",
    "            destino_relativo = os.path.join(destino_backup, rel_path)\n",
    "\n",
    "            if not os.path.exists(destino_relativo):\n",
    "                os.makedirs(destino_relativo)\n",
    "\n",
    "            for file in files:\n",
    "                origem_arquivo = os.path.join(root, file)\n",
    "                destino_arquivo = os.path.join(destino_relativo, file)\n",
    "                shutil.copy2(origem_arquivo, destino_arquivo)\n",
    "\n",
    "        print(\"Backup concluído com sucesso!\")\n",
    "\n",
    "    except Exception as e:\n",
    "        print(f\"Erro durante o backup: {e}\")\n",
    "\n",
    "# Exemplo de uso\n",
    "pasta_origem = \"/home/joaobreno/Documentos/Introdução a Automações\"\n",
    "pasta_destino = \"/run/media/joaobreno/Backup/Backup\"\n",
    "\n",
    "fazer_backup(pasta_origem, pasta_destino)\n"
   ]
  },
  {
   "cell_type": "markdown",
   "metadata": {},
   "source": [
    "# Envio de Email Automatico #"
   ]
  },
  {
   "cell_type": "code",
   "execution_count": 5,
   "metadata": {},
   "outputs": [],
   "source": [
    "import smtplib\n",
    "import email.message\n",
    "\n",
    "def enviar_email():  \n",
    "    corpo_email = \"\"\"\n",
    "    <p>Boa noite pessoal 😀</p>\n",
    "    <p>Obrigado a todos que participaram da minha oficina \"Introdução a automação com Python\", meus mais sinceros agradecimentos a todos vocês</p>\n",
    "    <p>Espero que tenham gostado e que tenham aprendido bastante, qualquer dúvida que vocês tiverem, podem me mandar um email que eu respondo o mais rápido possível</p>\n",
    "    <p>Alem disso vou encaminhar todos os arquivos e bots usados em aula, inclusive este que esta enviando o email automático para todos vocês</p>\n",
    "    <p>https://github.com/Jhonnee101/automacoes-em-Python.git</p>\n",
    "    <p>Espero que tenham gostado e até a próxima!</p>\n",
    "    \"\"\"\n",
    "\n",
    "    msg = email.message.Message()\n",
    "    msg['Subject'] = \"Introdução a automação com Python\"\n",
    "    msg['From'] = 'email'\n",
    "    msg['To'] = 'email'\n",
    "    password = 'senha' \n",
    "    msg.add_header('Content-Type', 'text/html')\n",
    "    msg.set_payload(corpo_email )\n",
    "\n",
    "    s = smtplib.SMTP('smtp.gmail.com: 587')\n",
    "    s.starttls()\n",
    "    # Login Credentials for sending the mail\n",
    "    s.login(msg['From'], password)\n",
    "    s.sendmail(msg['From'], [msg['To']], msg.as_string().encode('utf-8'))\n",
    "    print('Email enviado')"
   ]
  },
  {
   "cell_type": "code",
   "execution_count": 6,
   "metadata": {},
   "outputs": [
    {
     "name": "stdout",
     "output_type": "stream",
     "text": [
      "Email enviado\n"
     ]
    }
   ],
   "source": [
    "enviar_email()"
   ]
  }
 ],
 "metadata": {
  "kernelspec": {
   "display_name": "Python 3",
   "language": "python",
   "name": "python3"
  },
  "language_info": {
   "codemirror_mode": {
    "name": "ipython",
    "version": 3
   },
   "file_extension": ".py",
   "mimetype": "text/x-python",
   "name": "python",
   "nbconvert_exporter": "python",
   "pygments_lexer": "ipython3",
   "version": "3.12.0"
  }
 },
 "nbformat": 4,
 "nbformat_minor": 2
}
